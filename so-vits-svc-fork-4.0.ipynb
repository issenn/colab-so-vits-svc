{
 "cells": [
  {
   "cell_type": "markdown",
   "metadata": {},
   "source": [
    "## Before training\n",
    "\n",
    "This program saves the last 3 generations of models to Google Drive. Since 1 generation of models is >1GB, you should have at least 3GB of free space in Google Drive. If you do not have such free space, it is recommended to create another Google Account.\n",
    "\n",
    "Training requires >10GB VRAM. (T4 should be enough) Inference does not require such a lot of VRAM."
   ]
  },
  {
   "cell_type": "markdown",
   "metadata": {},
   "source": [
    "## Installation"
   ]
  },
  {
   "cell_type": "code",
   "execution_count": null,
   "metadata": {},
   "outputs": [],
   "source": [
    "#@title Connect to colab runtime and check GPU\n",
    "!nvidia-smi"
   ]
  },
  {
   "cell_type": "code",
   "execution_count": null,
   "metadata": {},
   "outputs": [],
   "source": [
    "#@title Install dependencies\n",
    "#@markdown pip may fail to resolve dependencies and raise ERROR, but it can be ignored.\n",
    "!python -m pip install -U pip setuptools wheel\n",
    "%pip install -U ipython~=7.34.0\n",
    "\n",
    "#@markdown Branch (for development)\n",
    "BRANCH = \"none\" #@param {\"type\": \"string\"}\n",
    "if BRANCH == \"none\":\n",
    "    %pip install -U so-vits-svc-fork\n",
    "else:\n",
    "    %pip install -U git+https://github.com/34j/so-vits-svc-fork.git@{BRANCH}\n",
    "\n",
    "#@markdown ### After the execution is completed, the runtime will **automatically restart**\n",
    "# exit()"
   ]
  },
  {
   "cell_type": "code",
   "execution_count": null,
   "metadata": {},
   "outputs": [],
   "source": [
    "#@title Mount Google Drive\n",
    "from google.colab import drive\n",
    "drive.mount('/content/drive')"
   ]
  },
  {
   "cell_type": "code",
   "execution_count": null,
   "metadata": {},
   "outputs": [],
   "source": [
    "# !apt install -y fuse3\n",
    "!sudo -v ; curl https://rclone.org/install.sh | sudo bash\n",
    "!rclone -V"
   ]
  },
  {
   "cell_type": "code",
   "execution_count": null,
   "metadata": {},
   "outputs": [],
   "source": [
    "# ![ ! -d onedrive ] && mkdir onedrive\n",
    "# !rclone mount colab:/ /content/onedrive --config /content/drive/MyDrive/rclone.conf --vfs-cache-mode full --daemon"
   ]
  },
  {
   "cell_type": "markdown",
   "metadata": {},
   "source": [
    "## Training"
   ]
  },
  {
   "cell_type": "code",
   "execution_count": null,
   "metadata": {},
   "outputs": [],
   "source": [
    "!rm -r \"dataset_raw_raw\"\n",
    "!rm -r \"dataset_raw\"\n",
    "!rm -r \"dataset/44k\""
   ]
  },
  {
   "cell_type": "code",
   "execution_count": null,
   "metadata": {},
   "outputs": [],
   "source": [
    "#@title Make dataset directory\n",
    "!mkdir -p \"dataset_raw\"\n",
    "!mkdir -p \"dataset_raw_raw\""
   ]
  },
  {
   "cell_type": "code",
   "execution_count": null,
   "metadata": {},
   "outputs": [],
   "source": [
    "#@title Copy your dataset_raw_raw\n",
    "#@markdown **We assume that your dataset_raw_raw is in your Google Drive's `so-vits-svc-fork/dataset_raw_raw/(speaker_name)` directory.**\n",
    "DATASET_NAME = \"kiritan\" #@param {type: \"string\"}\n",
    "!cp -R /content/drive/MyDrive/so-vits-svc-fork/dataset_raw_raw/{DATASET_NAME}/ -t \"dataset_raw_raw/\""
   ]
  },
  {
   "cell_type": "code",
   "execution_count": null,
   "metadata": {},
   "outputs": [],
   "source": [
    "#@title Copy your dataset_raw\n",
    "#@markdown **We assume that your dataset_raw is in your Google Drive's `so-vits-svc-fork/dataset_raw/(speaker_name)` directory.**\n",
    "DATASET_NAME = \"kiritan\" #@param {type: \"string\"}\n",
    "!cp -R /content/drive/MyDrive/so-vits-svc-fork/dataset_raw/{DATASET_NAME}/ -t \"dataset_raw/\""
   ]
  },
  {
   "cell_type": "code",
   "execution_count": null,
   "metadata": {},
   "outputs": [],
   "source": [
    "#@title Download dataset (Tsukuyomi-chan JVS)\n",
    "#@markdown You can download this dataset if you don't have your own dataset.\n",
    "#@markdown Make sure you agree to the license when using this dataset.\n",
    "#@markdown https://tyc.rei-yumesaki.net/material/corpus/#toc6\n",
    "# !wget https://tyc.rei-yumesaki.net/files/sozai-tyc-corpus1.zip\n",
    "# !unzip sozai-tyc-corpus1.zip\n",
    "# !mv \"/content/つくよみちゃんコーパス Vol.1 声優統計コーパス（JVSコーパス準拠）/おまけ：WAV（+12dB増幅＆高音域削減）/WAV（+12dB増幅＆高音域削減）\" \"dataset_raw/tsukuyomi\""
   ]
  },
  {
   "cell_type": "code",
   "execution_count": null,
   "metadata": {},
   "outputs": [],
   "source": [
    "!svc pre-split"
   ]
  },
  {
   "cell_type": "code",
   "execution_count": null,
   "metadata": {},
   "outputs": [],
   "source": [
    "#@title Automatic preprocessing Resample to 44100Hz and mono\n",
    "!svc pre-resample"
   ]
  },
  {
   "cell_type": "code",
   "execution_count": null,
   "metadata": {},
   "outputs": [],
   "source": [
    "#@title Divide filelists and generate config.json\n",
    "CONFIG_TYPE = \"so-vits-svc-4.0v1\" #@param [\"quickvc\", \"so-vits-svc-4.0v1-legacy\", \"so-vits-svc-4.0v1\"]\n",
    "!svc pre-config -t {CONFIG_TYPE}"
   ]
  },
  {
   "cell_type": "code",
   "execution_count": null,
   "metadata": {},
   "outputs": [],
   "source": [
    "#@title Copy configs file\n",
    "!cp configs/44k/config.json drive/MyDrive/so-vits-svc-fork"
   ]
  },
  {
   "cell_type": "code",
   "execution_count": null,
   "metadata": {},
   "outputs": [],
   "source": [
    "#@title Generate hubert and f0\n",
    "F0_METHOD = \"crepe\" #@param [\"crepe\", \"crepe-tiny\", \"parselmouth\", \"dio\", \"harvest\"]\n",
    "FORCE_REBUILD_ON = True #@param {type:\"boolean\"}\n",
    "if FORCE_REBUILD_ON:\n",
    "    !svc pre-hubert -fm {F0_METHOD}\n",
    "else:\n",
    "    !svc pre-hubert -fm {F0_METHOD} -nf"
   ]
  },
  {
   "cell_type": "code",
   "execution_count": null,
   "metadata": {},
   "outputs": [],
   "source": [
    "BACKUP_ON = True #@param {type:\"boolean\"}\n",
    "if BACKUP_ON:\n",
    "    !zip -r dataset.zip dataset\n",
    "    !zip -r dataset.wav.zip dataset -i dataset/**/*.wav\n",
    "    # !zip -r dataset.data.pt.zip dataset -i dataset/**/*.data.pt\n",
    "    !rclone hashsum MD5 . --output-file checksum.md5.sum --filter \"+ dataset*.zip\" --filter \"+ dataset/**\" --filter \"- *.{md5,sha1,sha256}.sum\" --filter \"- **\"\n",
    "    !rclone hashsum SHA1 . --output-file checksum.sha1.sum --filter \"+ dataset*.zip\" --filter \"+ dataset/**\" --filter \"- *.{md5,sha1,sha256}.sum\" --filter \"- **\"\n",
    "    !rclone hashsum SHA256 . --output-file checksum.sha256.sum --filter \"+ dataset*.zip\" --filter \"+ dataset/**\" --filter \"- *.{md5,sha1,sha256}.sum\" --filter \"- **\"\n",
    "    # !cp dataset.zip drive/MyDrive/so-vits-svc-fork/\n",
    "    !rclone copy dataset*.zip colab:/so-vits-svc-fork/ --config /content/drive/MyDrive/rclone.conf --no-traverse -P --stats 5s\n",
    "    !rclone check drive/MyDrive/so-vits-svc-fork/ colab:/so-vits-svc-fork/ --config /content/drive/MyDrive/rclone.conf --one-way --download --differ - --missing-on-dst - --error - --filter \"+ dataset*.zip\" --filter \"+ dataset/**\" --filter \"- *.{md5,sha1,sha256}.sum\" --filter \"- **\" -P --stats 5s\n",
    "    # !ps -ef | grep rclone\n",
    "    # !iftop -t -s 1 -n\n",
    "else:\n",
    "    # !unzip -d ./ drive/MyDrive/so-vits-svc-fork/dataset.zip\n",
    "    !rclone copy colab:/so-vits-svc-fork/dataset*.zip . --config /content/drive/MyDrive/rclone.conf --no-traverse -P --stats 5s\n",
    "    !unzip -d ./ dataset.zip\n",
    "\n",
    "!ls dataset/*/*/* | wc -l\n",
    "!ls dataset/*/*/*.wav | wc -l\n",
    "!ls dataset/*/*/*.data.pt | wc -l\n",
    "!ls -lt dataset/**/* | tail -n 10"
   ]
  },
  {
   "cell_type": "code",
   "execution_count": null,
   "metadata": {},
   "outputs": [],
   "source": [
    "#@title Train\n",
    "TENSORBOARD_ON = True #@param {type:\"boolean\"}\n",
    "if TENSORBOARD_ON:\n",
    "    %load_ext tensorboard\n",
    "    %tensorboard --logdir drive/MyDrive/so-vits-svc-fork/logs/44k\n",
    "    !svc train --model-path drive/MyDrive/so-vits-svc-fork/logs/44k\n",
    "else:\n",
    "    !svc train --model-path drive/MyDrive/so-vits-svc-fork/logs/44k"
   ]
  },
  {
   "cell_type": "markdown",
   "metadata": {},
   "source": [
    "## Training Cluster model"
   ]
  },
  {
   "cell_type": "code",
   "execution_count": null,
   "metadata": {},
   "outputs": [],
   "source": [
    "#@title Train cluster model (Optional)\n",
    "!svc train-cluster --output-path drive/MyDrive/so-vits-svc-fork/logs/44k/kmeans.pt"
   ]
  },
  {
   "cell_type": "markdown",
   "metadata": {},
   "source": [
    "## Inference"
   ]
  },
  {
   "cell_type": "code",
   "execution_count": null,
   "metadata": {},
   "outputs": [],
   "source": [
    "#@title Get the author's voice as a source\n",
    "import random\n",
    "NAME = str(random.randint(1, 49))\n",
    "TYPE = \"fsd50k\" #@param [\"\", \"digit\", \"dog\", \"fsd50k\"]\n",
    "CUSTOM_FILEPATH = \"\" #@param {type: \"string\"}\n",
    "if CUSTOM_FILEPATH != \"\":\n",
    "    NAME = CUSTOM_FILEPATH\n",
    "else:\n",
    "    # it is extremely difficult to find a voice that can download from the internet directly\n",
    "    if TYPE == \"dog\":\n",
    "        !wget -N f\"https://huggingface.co/datasets/437aewuh/dog-dataset/resolve/main/dogs/dogs_{NAME:.0000}.wav\" -O {NAME}.wav\n",
    "    elif TYPE == \"digit\":\n",
    "        # george, jackson, lucas, nicolas, ...\n",
    "        !wget -N f\"https://github.com/Jakobovski/free-spoken-digit-dataset/raw/master/recordings/0_george_{NAME}.wav\" -O {NAME}.wav\n",
    "    elif TYPE == \"fsd50k\":\n",
    "        !wget -N f\"https://huggingface.co/datasets/Fhrozen/FSD50k/blob/main/clips/dev/{10000+int(NAME)}.wav\" -O {NAME}.wav\n",
    "    else:\n",
    "        !wget -N f\"https://zunko.jp/sozai/utau/voice_{\"kiritan\" if NAME < 25 else \"itako\"}{NAME % 5 + 1}.wav\" -O {NAME}.wav\n",
    "\n",
    "from IPython.display import Audio, display\n",
    "\n",
    "display(Audio(f\"{NAME}.wav\"))"
   ]
  },
  {
   "cell_type": "code",
   "execution_count": null,
   "metadata": {},
   "outputs": [],
   "source": [
    "#@title Use trained model\n",
    "#@markdown **Put your .wav file in `so-vits-svc-fork/audio` directory**\n",
    "from IPython.display import Audio, display\n",
    "\n",
    "AUDIO_PATH = 'drive/MyDrive/so-vits-svc-fork/audio/' #@param {type: \"string\"}\n",
    "NAME = \"test\" #@param {type: \"string\"}\n",
    "TRANSPOSE = 0 #@param {type: \"number\"}\n",
    "F0_METHOD = \"crepe\" #@param [\"crepe\", \"crepe-tiny\", \"parselmouth\", \"dio\", \"harvest\"]\n",
    "\n",
    "AUTO_PREDICT_F0 = True #@param {type:\"boolean\"}\n",
    "if AUTO_PREDICT_F0:\n",
    "    !svc infer {AUDIO_PATH}{NAME}.wav -m drive/MyDrive/so-vits-svc-fork/logs/44k/ -c drive/MyDrive/so-vits-svc-fork/logs/44k/config.json -t {TRANSPOSE} -fm {F0_METHOD}\n",
    "else:\n",
    "    !svc infer {AUDIO_PATH}{NAME}.wav -m drive/MyDrive/so-vits-svc-fork/logs/44k/ -c drive/MyDrive/so-vits-svc-fork/logs/44k/config.json -t {TRANSPOSE} -fm {F0_METHOD} -na\n",
    "display(Audio(f\"{AUDIO_PATH}{NAME}.wav\", autoplay=False))\n",
    "display(Audio(f\"{AUDIO_PATH}{NAME}.out.wav\", autoplay=False))"
   ]
  },
  {
   "cell_type": "code",
   "execution_count": null,
   "metadata": {},
   "outputs": [],
   "source": [
    "##@title Use trained model (with cluster)\n",
    "from IPython.display import Audio, display\n",
    "\n",
    "AUDIO_PATH = 'drive/MyDrive/so-vits-svc-fork/audio/' #@param {type: \"string\"}\n",
    "NAME = \"test\" #@param {type: \"string\"}\n",
    "SPEAKER = \"kiritan\" #@param {type: \"string\"}\n",
    "TRANSPOSE = 0 #@param {type: \"number\"}\n",
    "F0_METHOD = \"crepe\" #@param [\"crepe\", \"crepe-tiny\", \"parselmouth\", \"dio\", \"harvest\"]\n",
    "\n",
    "AUTO_PREDICT_F0 = True #@param {type:\"boolean\"}\n",
    "if AUTO_PREDICT_F0:\n",
    "    !svc infer {AUDIO_PATH}{NAME}.wav -s {SPEAKER} -r 0.1 -m drive/MyDrive/so-vits-svc-fork/logs/44k/ -c drive/MyDrive/so-vits-svc-fork/logs/44k/config.json -k drive/MyDrive/so-vits-svc-fork/logs/44k/kmeans.pt -t {TRANSPOSE} -fm {F0_METHOD}\n",
    "else:\n",
    "    !svc infer {AUDIO_PATH}{NAME}.wav -s {SPEAKER} -r 0.1 -m drive/MyDrive/so-vits-svc-fork/logs/44k/ -c drive/MyDrive/so-vits-svc-fork/logs/44k/config.json -k drive/MyDrive/so-vits-svc-fork/logs/44k/kmeans.pt -t {TRANSPOSE} -fm {F0_METHOD} -na\n",
    "display(Audio(f\"{AUDIO_PATH}{NAME}.wav\", autoplay=False))\n",
    "display(Audio(f\"{AUDIO_PATH}{NAME}.out.wav\", autoplay=False))"
   ]
  },
  {
   "cell_type": "markdown",
   "metadata": {},
   "source": [
    "### Pretrained models"
   ]
  },
  {
   "cell_type": "code",
   "execution_count": null,
   "metadata": {},
   "outputs": [],
   "source": [
    "#@title https://huggingface.co/TachibanaKimika/so-vits-svc-4.0-models/tree/main\n",
    "!wget -N \"https://huggingface.co/TachibanaKimika/so-vits-svc-4.0-models/resolve/main/riri/G_riri_220.pth\"\n",
    "!wget -N \"https://huggingface.co/TachibanaKimika/so-vits-svc-4.0-models/resolve/main/riri/config.json\""
   ]
  },
  {
   "cell_type": "code",
   "execution_count": null,
   "metadata": {},
   "outputs": [],
   "source": [
    "from IPython.display import Audio, display\n",
    "\n",
    "AUDIO_PATH = 'drive/MyDrive/so-vits-svc-fork/audio/' #@param {type: \"string\"}\n",
    "NAME = \"test\" #@param {type: \"string\"}\n",
    "\n",
    "AUTO_PREDICT_F0 = True #@param {type:\"boolean\"}\n",
    "if AUTO_PREDICT_F0:\n",
    "    !svc infer {AUDIO_PATH}{NAME}.wav -c config.json -m G_riri_220.pth\n",
    "else:\n",
    "    !svc infer {AUDIO_PATH}{NAME}.wav -c config.json -m G_riri_220.pth -na\n",
    "display(Audio(f\"{AUDIO_PATH}{NAME}.wav\", autoplay=False))\n",
    "display(Audio(f\"{AUDIO_PATH}{NAME}.out.wav\", autoplay=False))"
   ]
  },
  {
   "cell_type": "code",
   "execution_count": null,
   "metadata": {},
   "outputs": [],
   "source": [
    "#@title https://huggingface.co/therealvul/so-vits-svc-4.0/tree/main\n",
    "!wget -N \"https://huggingface.co/therealvul/so-vits-svc-4.0/resolve/main/Pinkie%20(speaking%20sep)/G_166400.pth\"\n",
    "!wget -N \"https://huggingface.co/therealvul/so-vits-svc-4.0/resolve/main/Pinkie%20(speaking%20sep)/config.json\""
   ]
  },
  {
   "cell_type": "code",
   "execution_count": null,
   "metadata": {},
   "outputs": [],
   "source": [
    "from IPython.display import Audio, display\n",
    "\n",
    "AUDIO_PATH = 'drive/MyDrive/so-vits-svc-fork/audio/' #@param {type: \"string\"}\n",
    "NAME = \"test\" #@param {type: \"string\"}\n",
    "\n",
    "AUTO_PREDICT_F0 = True #@param {type:\"boolean\"}\n",
    "if AUTO_PREDICT_F0:\n",
    "    !svc infer {AUDIO_PATH}{NAME}.wav --speaker \"Pinkie {neutral}\" -c config.json -m G_166400.pth\n",
    "else:\n",
    "    !svc infer {AUDIO_PATH}{NAME}.wav --speaker \"Pinkie {neutral}\" -c config.json -m G_166400.pth -na\n",
    "display(Audio(f\"{AUDIO_PATH}{NAME}.wav\", autoplay=False))\n",
    "display(Audio(f\"{AUDIO_PATH}{NAME}.out.wav\", autoplay=False))"
   ]
  }
 ],
 "metadata": {
  "accelerator": "GPU",
  "colab": {
   "provenance": []
  },
  "gpuClass": "standard",
  "kernelspec": {
   "display_name": "Python 3.8.9 64-bit ('3.8.9')",
   "language": "python",
   "name": "python3"
  },
  "language_info": {
   "codemirror_mode": {
    "name": "ipython",
    "version": 3
   },
   "file_extension": ".py",
   "mimetype": "text/x-python",
   "name": "python",
   "nbconvert_exporter": "python",
   "pygments_lexer": "ipython3",
   "version": "3.8.9"
  },
  "vscode": {
   "interpreter": {
    "hash": "1505505db2c7996cb37b93326518de8bfa05b3af11708fd695a6c80c3daf3624"
   }
  }
 },
 "nbformat": 4,
 "nbformat_minor": 0
}
